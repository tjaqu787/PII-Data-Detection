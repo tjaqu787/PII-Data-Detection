{
 "cells": [
  {
   "cell_type": "code",
   "execution_count": 30,
   "metadata": {},
   "outputs": [],
   "source": [
    "import pandas as pd\n",
    "import numpy as np\n",
    "import matplotlib.pyplot as plt\n",
    "%matplotlib inline"
   ]
  },
  {
   "cell_type": "code",
   "execution_count": 3,
   "metadata": {},
   "outputs": [],
   "source": [
    "train_file = pd.read_json(\"data/pii-detection-removal-from-educational-data/train.json\")"
   ]
  },
  {
   "cell_type": "code",
   "execution_count": 5,
   "metadata": {},
   "outputs": [
    {
     "data": {
      "text/plain": [
       "Index(['document', 'full_text', 'tokens', 'trailing_whitespace', 'labels'], dtype='object')"
      ]
     },
     "execution_count": 5,
     "metadata": {},
     "output_type": "execute_result"
    }
   ],
   "source": [
    "train_file.columns"
   ]
  },
  {
   "cell_type": "code",
   "execution_count": 8,
   "metadata": {},
   "outputs": [
    {
     "data": {
      "text/plain": [
       "6807"
      ]
     },
     "execution_count": 8,
     "metadata": {},
     "output_type": "execute_result"
    }
   ],
   "source": [
    "len(train_file['document'].unique())"
   ]
  },
  {
   "cell_type": "code",
   "execution_count": 11,
   "metadata": {},
   "outputs": [
    {
     "data": {
      "text/plain": [
       "0       [O, O, O, O, O, O, O, O, O, B-NAME_STUDENT, I-...\n",
       "1       [B-NAME_STUDENT, I-NAME_STUDENT, O, O, O, O, O...\n",
       "2       [O, O, O, O, B-NAME_STUDENT, I-NAME_STUDENT, O...\n",
       "3       [O, O, O, O, O, B-NAME_STUDENT, I-NAME_STUDENT...\n",
       "4       [O, O, O, O, O, O, O, O, O, O, O, O, B-NAME_ST...\n",
       "                              ...                        \n",
       "6802    [O, O, O, O, O, O, O, O, O, O, O, O, O, O, O, ...\n",
       "6803    [O, O, O, O, O, O, O, O, O, O, O, O, O, O, O, ...\n",
       "6804    [O, O, O, O, O, O, O, O, O, O, O, O, O, O, O, ...\n",
       "6805    [O, O, O, O, O, O, O, O, O, O, O, O, O, O, O, ...\n",
       "6806    [O, O, O, O, O, O, O, O, O, O, O, O, O, O, O, ...\n",
       "Name: labels, Length: 6807, dtype: object"
      ]
     },
     "execution_count": 11,
     "metadata": {},
     "output_type": "execute_result"
    }
   ],
   "source": [
    "train_file['labels']"
   ]
  },
  {
   "cell_type": "code",
   "execution_count": 28,
   "metadata": {},
   "outputs": [
    {
     "data": {
      "text/html": [
       "<div>\n",
       "<style scoped>\n",
       "    .dataframe tbody tr th:only-of-type {\n",
       "        vertical-align: middle;\n",
       "    }\n",
       "\n",
       "    .dataframe tbody tr th {\n",
       "        vertical-align: top;\n",
       "    }\n",
       "\n",
       "    .dataframe thead th {\n",
       "        text-align: right;\n",
       "    }\n",
       "</style>\n",
       "<table border=\"1\" class=\"dataframe\">\n",
       "  <thead>\n",
       "    <tr style=\"text-align: right;\">\n",
       "      <th></th>\n",
       "      <th>labels</th>\n",
       "      <th>length</th>\n",
       "    </tr>\n",
       "  </thead>\n",
       "  <tbody>\n",
       "    <tr>\n",
       "      <th>0</th>\n",
       "      <td>[O, O, O, O, O, O, O, O, O, B-NAME_STUDENT, I-...</td>\n",
       "      <td>753</td>\n",
       "    </tr>\n",
       "    <tr>\n",
       "      <th>1</th>\n",
       "      <td>[B-NAME_STUDENT, I-NAME_STUDENT, O, O, O, O, O...</td>\n",
       "      <td>563</td>\n",
       "    </tr>\n",
       "    <tr>\n",
       "      <th>2</th>\n",
       "      <td>[O, O, O, O, B-NAME_STUDENT, I-NAME_STUDENT, O...</td>\n",
       "      <td>729</td>\n",
       "    </tr>\n",
       "    <tr>\n",
       "      <th>3</th>\n",
       "      <td>[O, O, O, O, O, B-NAME_STUDENT, I-NAME_STUDENT...</td>\n",
       "      <td>1071</td>\n",
       "    </tr>\n",
       "    <tr>\n",
       "      <th>4</th>\n",
       "      <td>[O, O, O, O, O, O, O, O, O, O, O, O, B-NAME_ST...</td>\n",
       "      <td>1927</td>\n",
       "    </tr>\n",
       "    <tr>\n",
       "      <th>...</th>\n",
       "      <td>...</td>\n",
       "      <td>...</td>\n",
       "    </tr>\n",
       "    <tr>\n",
       "      <th>6802</th>\n",
       "      <td>[O, O, O, O, O, O, O, O, O, O, O, O, O, O, O, ...</td>\n",
       "      <td>601</td>\n",
       "    </tr>\n",
       "    <tr>\n",
       "      <th>6803</th>\n",
       "      <td>[O, O, O, O, O, O, O, O, O, O, O, O, O, O, O, ...</td>\n",
       "      <td>433</td>\n",
       "    </tr>\n",
       "    <tr>\n",
       "      <th>6804</th>\n",
       "      <td>[O, O, O, O, O, O, O, O, O, O, O, O, O, O, O, ...</td>\n",
       "      <td>633</td>\n",
       "    </tr>\n",
       "    <tr>\n",
       "      <th>6805</th>\n",
       "      <td>[O, O, O, O, O, O, O, O, O, O, O, O, O, O, O, ...</td>\n",
       "      <td>679</td>\n",
       "    </tr>\n",
       "    <tr>\n",
       "      <th>6806</th>\n",
       "      <td>[O, O, O, O, O, O, O, O, O, O, O, O, O, O, O, ...</td>\n",
       "      <td>820</td>\n",
       "    </tr>\n",
       "  </tbody>\n",
       "</table>\n",
       "<p>6807 rows × 2 columns</p>\n",
       "</div>"
      ],
      "text/plain": [
       "                                                 labels  length\n",
       "0     [O, O, O, O, O, O, O, O, O, B-NAME_STUDENT, I-...     753\n",
       "1     [B-NAME_STUDENT, I-NAME_STUDENT, O, O, O, O, O...     563\n",
       "2     [O, O, O, O, B-NAME_STUDENT, I-NAME_STUDENT, O...     729\n",
       "3     [O, O, O, O, O, B-NAME_STUDENT, I-NAME_STUDENT...    1071\n",
       "4     [O, O, O, O, O, O, O, O, O, O, O, O, B-NAME_ST...    1927\n",
       "...                                                 ...     ...\n",
       "6802  [O, O, O, O, O, O, O, O, O, O, O, O, O, O, O, ...     601\n",
       "6803  [O, O, O, O, O, O, O, O, O, O, O, O, O, O, O, ...     433\n",
       "6804  [O, O, O, O, O, O, O, O, O, O, O, O, O, O, O, ...     633\n",
       "6805  [O, O, O, O, O, O, O, O, O, O, O, O, O, O, O, ...     679\n",
       "6806  [O, O, O, O, O, O, O, O, O, O, O, O, O, O, O, ...     820\n",
       "\n",
       "[6807 rows x 2 columns]"
      ]
     },
     "execution_count": 28,
     "metadata": {},
     "output_type": "execute_result"
    }
   ],
   "source": [
    "label_array = pd.DataFrame(train_file['labels'].apply(np.array))\n",
    "label_array['length'] = train_file['labels'].apply(np.array).apply(len)\n",
    "label_array['length']"
   ]
  },
  {
   "cell_type": "code",
   "execution_count": null,
   "metadata": {},
   "outputs": [],
   "source": []
  },
  {
   "cell_type": "code",
   "execution_count": 45,
   "metadata": {},
   "outputs": [
    {
     "name": "stdout",
     "output_type": "stream",
     "text": [
      "0   ['B-NAME_STUDENT' 'I-NAME_STUDENT' 'O']\n",
      "1   ['B-NAME_STUDENT' 'I-NAME_STUDENT' 'O']\n",
      "2   ['B-NAME_STUDENT' 'I-NAME_STUDENT' 'O']\n",
      "3   ['B-NAME_STUDENT' 'I-NAME_STUDENT' 'O']\n",
      "4   ['B-NAME_STUDENT' 'I-NAME_STUDENT' 'O']\n",
      "5   ['B-NAME_STUDENT' 'I-NAME_STUDENT' 'O']\n",
      "6   ['B-NAME_STUDENT' 'I-NAME_STUDENT' 'O']\n",
      "7   ['B-NAME_STUDENT' 'I-NAME_STUDENT' 'O']\n",
      "8   ['B-NAME_STUDENT' 'I-NAME_STUDENT' 'O']\n",
      "9   ['B-NAME_STUDENT' 'I-NAME_STUDENT' 'O']\n",
      "10   ['B-NAME_STUDENT' 'O']\n",
      "11   ['B-NAME_STUDENT' 'I-NAME_STUDENT' 'O']\n",
      "12   ['B-NAME_STUDENT' 'O']\n",
      "13   ['B-NAME_STUDENT' 'I-NAME_STUDENT' 'O']\n",
      "14   ['B-NAME_STUDENT' 'I-NAME_STUDENT' 'O']\n",
      "15   ['B-NAME_STUDENT' 'I-NAME_STUDENT' 'O']\n",
      "16   ['B-NAME_STUDENT' 'I-NAME_STUDENT' 'O']\n",
      "17   ['B-URL_PERSONAL' 'O']\n",
      "18   ['B-NAME_STUDENT' 'O']\n",
      "19   ['B-NAME_STUDENT' 'I-NAME_STUDENT' 'O']\n",
      "20   ['B-NAME_STUDENT' 'I-NAME_STUDENT' 'O']\n",
      "21   ['B-NAME_STUDENT' 'I-NAME_STUDENT' 'O']\n",
      "22   ['B-NAME_STUDENT' 'I-NAME_STUDENT' 'O']\n",
      "23   ['B-NAME_STUDENT' 'I-NAME_STUDENT' 'O']\n",
      "24   ['B-EMAIL' 'B-NAME_STUDENT' 'B-URL_PERSONAL' 'I-NAME_STUDENT' 'O']\n",
      "25   ['B-NAME_STUDENT' 'O']\n",
      "26   ['B-NAME_STUDENT' 'B-URL_PERSONAL' 'I-NAME_STUDENT' 'O']\n",
      "27   ['B-NAME_STUDENT' 'I-NAME_STUDENT' 'O']\n",
      "28   ['B-NAME_STUDENT' 'I-NAME_STUDENT' 'O']\n",
      "29   ['B-ID_NUM' 'B-NAME_STUDENT' 'I-NAME_STUDENT' 'O']\n",
      "30   ['B-NAME_STUDENT' 'I-NAME_STUDENT' 'O']\n",
      "31   ['B-NAME_STUDENT' 'I-NAME_STUDENT' 'O']\n",
      "32   ['B-NAME_STUDENT' 'I-NAME_STUDENT' 'O']\n",
      "33   ['B-NAME_STUDENT' 'O']\n",
      "34   ['B-NAME_STUDENT' 'I-NAME_STUDENT' 'O']\n",
      "35   ['B-NAME_STUDENT' 'I-NAME_STUDENT' 'O']\n",
      "36   ['B-NAME_STUDENT' 'I-NAME_STUDENT' 'O']\n",
      "37   ['B-NAME_STUDENT' 'I-NAME_STUDENT' 'O']\n",
      "38   ['B-NAME_STUDENT' 'I-NAME_STUDENT' 'O']\n",
      "39   ['B-NAME_STUDENT' 'I-NAME_STUDENT' 'O']\n",
      "40   ['B-NAME_STUDENT' 'I-NAME_STUDENT' 'O']\n",
      "41   ['B-NAME_STUDENT' 'I-NAME_STUDENT' 'O']\n",
      "42   ['B-NAME_STUDENT' 'I-NAME_STUDENT' 'O']\n",
      "43   ['B-NAME_STUDENT' 'I-NAME_STUDENT' 'O']\n",
      "44   ['B-NAME_STUDENT' 'I-NAME_STUDENT' 'O']\n",
      "45   ['B-NAME_STUDENT' 'I-NAME_STUDENT' 'O']\n",
      "46   ['B-NAME_STUDENT' 'I-NAME_STUDENT' 'O']\n",
      "47   ['B-NAME_STUDENT' 'I-NAME_STUDENT' 'O']\n",
      "48   ['B-NAME_STUDENT' 'I-NAME_STUDENT' 'O']\n",
      "49   ['B-URL_PERSONAL' 'O']\n",
      "50   ['B-NAME_STUDENT' 'I-NAME_STUDENT' 'O']\n",
      "51   ['B-NAME_STUDENT' 'I-NAME_STUDENT' 'O']\n",
      "52   ['B-NAME_STUDENT' 'I-NAME_STUDENT' 'O']\n",
      "53   ['B-NAME_STUDENT' 'I-NAME_STUDENT' 'O']\n",
      "54   ['B-NAME_STUDENT' 'I-NAME_STUDENT' 'O']\n",
      "55   ['B-NAME_STUDENT' 'I-NAME_STUDENT' 'O']\n",
      "56   ['B-NAME_STUDENT' 'I-NAME_STUDENT' 'O']\n",
      "57   ['B-NAME_STUDENT' 'I-NAME_STUDENT' 'O']\n",
      "58   ['B-NAME_STUDENT' 'I-NAME_STUDENT' 'O']\n",
      "59   ['B-NAME_STUDENT' 'I-NAME_STUDENT' 'O']\n",
      "60   ['B-NAME_STUDENT' 'I-NAME_STUDENT' 'O']\n",
      "61   ['B-NAME_STUDENT' 'I-NAME_STUDENT' 'O']\n",
      "62   ['B-NAME_STUDENT' 'I-NAME_STUDENT' 'O']\n",
      "63   ['B-NAME_STUDENT' 'O']\n",
      "64   ['B-NAME_STUDENT' 'I-NAME_STUDENT' 'O']\n",
      "65   ['B-NAME_STUDENT' 'I-NAME_STUDENT' 'O']\n",
      "66   ['B-NAME_STUDENT' 'I-NAME_STUDENT' 'O']\n",
      "67   ['B-NAME_STUDENT' 'B-URL_PERSONAL' 'I-NAME_STUDENT' 'O']\n",
      "68   ['B-NAME_STUDENT' 'I-NAME_STUDENT' 'O']\n",
      "69   ['B-NAME_STUDENT' 'I-NAME_STUDENT' 'O']\n",
      "70   ['B-NAME_STUDENT' 'I-NAME_STUDENT' 'O']\n",
      "71   ['B-NAME_STUDENT' 'I-NAME_STUDENT' 'O']\n",
      "72   ['B-NAME_STUDENT' 'I-NAME_STUDENT' 'O']\n",
      "73   ['B-NAME_STUDENT' 'I-NAME_STUDENT' 'O']\n",
      "74   ['B-NAME_STUDENT' 'I-NAME_STUDENT' 'O']\n",
      "75   ['B-NAME_STUDENT' 'I-NAME_STUDENT' 'O']\n",
      "76   ['B-NAME_STUDENT' 'I-NAME_STUDENT' 'O']\n",
      "77   ['B-NAME_STUDENT' 'I-NAME_STUDENT' 'O']\n",
      "78   ['B-NAME_STUDENT' 'I-NAME_STUDENT' 'O']\n",
      "79   ['B-NAME_STUDENT' 'B-URL_PERSONAL' 'I-NAME_STUDENT' 'O']\n",
      "80   ['B-NAME_STUDENT' 'I-NAME_STUDENT' 'O']\n",
      "81   ['B-URL_PERSONAL' 'O']\n",
      "82   ['B-NAME_STUDENT' 'I-NAME_STUDENT' 'O']\n",
      "83   ['B-NAME_STUDENT' 'I-NAME_STUDENT' 'O']\n",
      "84   ['B-NAME_STUDENT' 'O']\n",
      "85   ['B-NAME_STUDENT' 'I-NAME_STUDENT' 'O']\n",
      "86   ['B-EMAIL' 'B-NAME_STUDENT' 'I-NAME_STUDENT' 'O']\n",
      "87   ['B-NAME_STUDENT' 'I-NAME_STUDENT' 'O']\n",
      "88   ['B-NAME_STUDENT' 'I-NAME_STUDENT' 'O']\n",
      "89   ['B-NAME_STUDENT' 'I-NAME_STUDENT' 'O']\n",
      "90   ['B-NAME_STUDENT' 'I-NAME_STUDENT' 'O']\n",
      "91   ['B-NAME_STUDENT' 'I-NAME_STUDENT' 'O']\n",
      "92   ['B-NAME_STUDENT' 'I-NAME_STUDENT' 'O']\n",
      "93   ['B-NAME_STUDENT' 'I-NAME_STUDENT' 'O']\n",
      "94   ['B-NAME_STUDENT' 'I-NAME_STUDENT' 'O']\n",
      "95   ['B-NAME_STUDENT' 'I-NAME_STUDENT' 'O']\n",
      "96   ['B-NAME_STUDENT' 'I-NAME_STUDENT' 'O']\n",
      "97   ['B-NAME_STUDENT' 'I-NAME_STUDENT' 'O']\n",
      "98   ['B-NAME_STUDENT' 'I-NAME_STUDENT' 'O']\n",
      "99   ['B-ID_NUM' 'B-NAME_STUDENT' 'I-NAME_STUDENT' 'O']\n"
     ]
    }
   ],
   "source": [
    "for i in range(100):\n",
    "    print(i,' ',np.unique(label_array['labels'].iloc[i]))"
   ]
  },
  {
   "cell_type": "code",
   "execution_count": 34,
   "metadata": {},
   "outputs": [
    {
     "data": {
      "text/plain": [
       "0        753\n",
       "1        563\n",
       "2        729\n",
       "3       1071\n",
       "4       1927\n",
       "        ... \n",
       "6802     601\n",
       "6803     433\n",
       "6804     633\n",
       "6805     679\n",
       "6806     820\n",
       "Name: length, Length: 6807, dtype: int64"
      ]
     },
     "execution_count": 34,
     "metadata": {},
     "output_type": "execute_result"
    }
   ],
   "source": [
    "token_array = pd.DataFrame(train_file['tokens'].apply(np.array))\n",
    "token_array['length'] = train_file['tokens'].apply(np.array).apply(len)\n",
    "token_array['length']"
   ]
  },
  {
   "cell_type": "code",
   "execution_count": 38,
   "metadata": {},
   "outputs": [
    {
     "data": {
      "text/plain": [
       "'Nathalie'"
      ]
     },
     "execution_count": 38,
     "metadata": {},
     "output_type": "execute_result"
    }
   ],
   "source": [
    "token_array['tokens'].iloc[0][9]"
   ]
  },
  {
   "cell_type": "markdown",
   "metadata": {},
   "source": [
    "Looks like we have a bunch of words that have some personal information and we need to identify the personal information.\n",
    "I'm going to plug in some functions looking for "
   ]
  },
  {
   "cell_type": "code",
   "execution_count": null,
   "metadata": {},
   "outputs": [],
   "source": []
  }
 ],
 "metadata": {
  "kernelspec": {
   "display_name": "Python 3",
   "language": "python",
   "name": "python3"
  },
  "language_info": {
   "codemirror_mode": {
    "name": "ipython",
    "version": 3
   },
   "file_extension": ".py",
   "mimetype": "text/x-python",
   "name": "python",
   "nbconvert_exporter": "python",
   "pygments_lexer": "ipython3",
   "version": "3.10.12"
  }
 },
 "nbformat": 4,
 "nbformat_minor": 2
}
